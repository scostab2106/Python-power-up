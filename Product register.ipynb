{
 "cells": [
  {
   "cell_type": "code",
   "execution_count": 13,
   "metadata": {},
   "outputs": [],
   "source": [
    "import pyautogui\n",
    "import time\n",
    "import pandas"
   ]
  },
  {
   "cell_type": "code",
   "execution_count": 14,
   "metadata": {},
   "outputs": [],
   "source": [
    "#pyautogui.write -> escreve um texto\n",
    "#pyautogui.click -> clicar com o mouse\n",
    "#pyautogui.press -> apertar uma tecla\n",
    "#pyautogui.hotkey -> aperta um atalho na tecla  \n",
    "\n",
    "pyautogui.PAUSE = 0.5 #TEMPO DE PAUSA A CADA COMANDO AUTOGUI FEITO\n"
   ]
  },
  {
   "cell_type": "code",
   "execution_count": null,
   "metadata": {},
   "outputs": [],
   "source": [
    "#abrir o navegador e apertar a tecla win\n",
    "pyautogui.press('win')\n",
    "pyautogui.write('chrome')\n",
    "time.sleep(2)\n",
    "pyautogui.press('enter')\n",
    "\n",
    "#entrar no link\n",
    "time.sleep(5) #esperar 5 segundos para executar próximo comando\n",
    "link = ('https://dlp.hashtagtreinamentos.com/python/intensivao/login')\n",
    "pyautogui.write(link)\n",
    "pyautogui.press('enter')\n",
    "\n",
    "#clicar no campo email\n",
    "time.sleep(3)\n",
    "pyautogui.click(x=515, y=409)\n",
    "\n",
    "#escrever email\n",
    "pyautogui.write('samcosta210600@gmail.com')\n",
    "\n",
    "#passar para o próximo campo\n",
    "pyautogui.press('tab')\n",
    "\n",
    "#escrever a senha\n",
    "pyautogui.write('12345678')\n",
    "\n",
    "#apertar botão de login\n",
    "pyautogui.press('tab')\n",
    "pyautogui.press('enter')\n",
    "\n",
    "#importar base de dados\n",
    "tabel = pandas.read_csv('produtos.csv') #ler base de dados e armazenar na variável tabel\n",
    "\n",
    "\n",
    "for linha in tabel.index:\n",
    "    #registrar produtos\n",
    "    pyautogui.click(x=408, y=288)\n",
    "\n",
    "    codigo = tabel.loc[linha, 'codigo'] #localizar linha e coluna da tabela produtos.csv \"linha n\", \"coluna 'codigo'\"\n",
    "    pyautogui.write(str(codigo))\n",
    "    pyautogui.press('tab')\n",
    "\n",
    "    marca = tabel.loc[linha, 'marca']\n",
    "    pyautogui.write(str(marca))\n",
    "    pyautogui.press('tab')\n",
    "\n",
    "    tipo = tabel.loc[linha, 'tipo']\n",
    "    pyautogui.write(str(tipo))\n",
    "    pyautogui.press('tab')\n",
    "\n",
    "    categoria = tabel.loc[linha, 'categoria']\n",
    "    pyautogui.write(str(categoria))\n",
    "    pyautogui.press('tab')\n",
    "\n",
    "    preco = tabel.loc[linha, 'preco_unitario']\n",
    "    pyautogui.write(str(preco))\n",
    "    pyautogui.press('tab')\n",
    "\n",
    "    custo = tabel.loc[linha, 'custo']\n",
    "    pyautogui.write(str(custo))\n",
    "    pyautogui.press('tab')\n",
    "\n",
    "    obs = tabel.loc[linha, 'obs']\n",
    "    if not pandas.isna(obs): #comando no pandas para verificar se o campo na tabela nao esta vazia\n",
    "        pyautogui.write(str(obs))\n",
    "        pyautogui.press('tab')\n",
    "    \n",
    "    pyautogui.press('tab')\n",
    "    pyautogui.press('enter')\n",
    "    pyautogui.scroll(1000) #rolar scroll do mouse(número positivo pra cima e negativo pra baixo)\n",
    "\n",
    "\n"
   ]
  }
 ],
 "metadata": {
  "kernelspec": {
   "display_name": "Python 3",
   "language": "python",
   "name": "python3"
  },
  "language_info": {
   "codemirror_mode": {
    "name": "ipython",
    "version": 3
   },
   "file_extension": ".py",
   "mimetype": "text/x-python",
   "name": "python",
   "nbconvert_exporter": "python",
   "pygments_lexer": "ipython3",
   "version": "3.12.6"
  }
 },
 "nbformat": 4,
 "nbformat_minor": 2
}
