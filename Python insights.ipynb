{
 "cells": [
  {
   "cell_type": "code",
   "execution_count": 1,
   "metadata": {},
   "outputs": [],
   "source": [
    "#%pip install pyautogui\n",
    "#%pip install pandas"
   ]
  },
  {
   "cell_type": "code",
   "execution_count": 2,
   "metadata": {},
   "outputs": [],
   "source": [
    "import pyautogui\n",
    "import time\n",
    "import pandas"
   ]
  },
  {
   "cell_type": "code",
   "execution_count": 3,
   "metadata": {},
   "outputs": [],
   "source": [
    "#pyautogui.write -> escreve um texto\n",
    "#pyautogui.click -> clicar com o mouse\n",
    "#pyautogui.press -> apertar uma tecla\n",
    "#pyautogui.hotkey -> aperta um atalho na tecla  \n",
    "\n",
    "pyautogui.PAUSE = 1 #TEMPO DE PAUSA A CADA COMANDO AUTOGUI FEITO\n"
   ]
  },
  {
   "cell_type": "code",
   "execution_count": 4,
   "metadata": {},
   "outputs": [
    {
     "ename": "FailSafeException",
     "evalue": "PyAutoGUI fail-safe triggered from mouse moving to a corner of the screen. To disable this fail-safe, set pyautogui.FAILSAFE to False. DISABLING FAIL-SAFE IS NOT RECOMMENDED.",
     "output_type": "error",
     "traceback": [
      "\u001b[1;31m---------------------------------------------------------------------------\u001b[0m",
      "\u001b[1;31mFailSafeException\u001b[0m                         Traceback (most recent call last)",
      "Cell \u001b[1;32mIn[4], line 89\u001b[0m\n\u001b[0;32m     87\u001b[0m time\u001b[38;5;241m.\u001b[39msleep(\u001b[38;5;241m5\u001b[39m) \u001b[38;5;66;03m#esperar 5 segundos para executar próximo comando\u001b[39;00m\n\u001b[0;32m     88\u001b[0m link \u001b[38;5;241m=\u001b[39m (\u001b[38;5;124m'\u001b[39m\u001b[38;5;124mhttps://dlp.hashtagtreinamentos.com/python/intensivao/login\u001b[39m\u001b[38;5;124m'\u001b[39m)\n\u001b[1;32m---> 89\u001b[0m \u001b[43mpyautogui\u001b[49m\u001b[38;5;241;43m.\u001b[39;49m\u001b[43mwrite\u001b[49m\u001b[43m(\u001b[49m\u001b[43mlink\u001b[49m\u001b[43m)\u001b[49m\n\u001b[0;32m     90\u001b[0m pyautogui\u001b[38;5;241m.\u001b[39mpress(\u001b[38;5;124m'\u001b[39m\u001b[38;5;124menter\u001b[39m\u001b[38;5;124m'\u001b[39m)\n\u001b[0;32m     92\u001b[0m \u001b[38;5;66;03m#clicar no campo email\u001b[39;00m\n",
      "File \u001b[1;32mc:\\Users\\samco\\AppData\\Local\\Programs\\Python\\Python312\\Lib\\site-packages\\pyautogui\\__init__.py:593\u001b[0m, in \u001b[0;36m_genericPyAutoGUIChecks.<locals>.wrapper\u001b[1;34m(*args, **kwargs)\u001b[0m\n\u001b[0;32m    591\u001b[0m \u001b[38;5;129m@functools\u001b[39m\u001b[38;5;241m.\u001b[39mwraps(wrappedFunction)\n\u001b[0;32m    592\u001b[0m \u001b[38;5;28;01mdef\u001b[39;00m \u001b[38;5;21mwrapper\u001b[39m(\u001b[38;5;241m*\u001b[39margs, \u001b[38;5;241m*\u001b[39m\u001b[38;5;241m*\u001b[39mkwargs):\n\u001b[1;32m--> 593\u001b[0m     \u001b[43mfailSafeCheck\u001b[49m\u001b[43m(\u001b[49m\u001b[43m)\u001b[49m\n\u001b[0;32m    594\u001b[0m     returnVal \u001b[38;5;241m=\u001b[39m wrappedFunction(\u001b[38;5;241m*\u001b[39margs, \u001b[38;5;241m*\u001b[39m\u001b[38;5;241m*\u001b[39mkwargs)\n\u001b[0;32m    595\u001b[0m     _handlePause(kwargs\u001b[38;5;241m.\u001b[39mget(\u001b[38;5;124m\"\u001b[39m\u001b[38;5;124m_pause\u001b[39m\u001b[38;5;124m\"\u001b[39m, \u001b[38;5;28;01mTrue\u001b[39;00m))\n",
      "File \u001b[1;32mc:\\Users\\samco\\AppData\\Local\\Programs\\Python\\Python312\\Lib\\site-packages\\pyautogui\\__init__.py:1734\u001b[0m, in \u001b[0;36mfailSafeCheck\u001b[1;34m()\u001b[0m\n\u001b[0;32m   1732\u001b[0m \u001b[38;5;28;01mdef\u001b[39;00m \u001b[38;5;21mfailSafeCheck\u001b[39m():\n\u001b[0;32m   1733\u001b[0m     \u001b[38;5;28;01mif\u001b[39;00m FAILSAFE \u001b[38;5;129;01mand\u001b[39;00m \u001b[38;5;28mtuple\u001b[39m(position()) \u001b[38;5;129;01min\u001b[39;00m FAILSAFE_POINTS:\n\u001b[1;32m-> 1734\u001b[0m         \u001b[38;5;28;01mraise\u001b[39;00m FailSafeException(\n\u001b[0;32m   1735\u001b[0m             \u001b[38;5;124m\"\u001b[39m\u001b[38;5;124mPyAutoGUI fail-safe triggered from mouse moving to a corner of the screen. To disable this fail-safe, set pyautogui.FAILSAFE to False. DISABLING FAIL-SAFE IS NOT RECOMMENDED.\u001b[39m\u001b[38;5;124m\"\u001b[39m\n\u001b[0;32m   1736\u001b[0m         )\n",
      "\u001b[1;31mFailSafeException\u001b[0m: PyAutoGUI fail-safe triggered from mouse moving to a corner of the screen. To disable this fail-safe, set pyautogui.FAILSAFE to False. DISABLING FAIL-SAFE IS NOT RECOMMENDED."
     ]
    }
   ],
   "source": [
    "#abrir o navegador e apertar a tecla win\n",
    "pyautogui.press('win')\n",
    "pyautogui.write('chrome')\n",
    "pyautogui.press('enter')\n",
    "\n",
    "#entrar no link\n",
    "time.sleep(5) #esperar 5 segundos para executar próximo comando\n",
    "link = ('https://dlp.hashtagtreinamentos.com/python/intensivao/login')\n",
    "pyautogui.write(link)\n",
    "pyautogui.press('enter')\n",
    "\n",
    "#clicar no campo email\n",
    "time.sleep(3)\n",
    "pyautogui.click(x=535, y=482)\n",
    "\n",
    "#escrever email\n",
    "pyautogui.write('samcosta210600@gmail.com')\n",
    "\n",
    "#passar para o próximo campo\n",
    "pyautogui.press('tab')\n",
    "\n",
    "#escrever a senha\n",
    "pyautogui.write('12345678')\n",
    "\n",
    "#apertar botão de login\n",
    "pyautogui.press('tab')\n",
    "pyautogui.press('enter')\n",
    "\n",
    "#importar base de dados\n",
    "tabel = pandas.read_csv('produtos.csv') #ler base de dados e armazenar na variável tabel\n",
    "\n",
    "\n",
    "for linha in tabel.index:\n",
    "    #registrar produtos\n",
    "    pyautogui.click(x=479, y=375)\n",
    "\n",
    "    codigo = tabel.loc[linha, 'codigo'] #localizar linha e coluna da tabela produtos.csv \"linha n\", \"coluna 'codigo'\"\n",
    "    pyautogui.write(str(codigo))\n",
    "    pyautogui.press('tab')\n",
    "\n",
    "    marca = tabel.loc[linha, 'marca']\n",
    "    pyautogui.write(str(marca))\n",
    "    pyautogui.press('tab')\n",
    "\n",
    "    tipo = tabel.loc[linha, 'tipo']\n",
    "    pyautogui.write(str(tipo))\n",
    "    pyautogui.press('tab')\n",
    "\n",
    "    categoria = tabel.loc[linha, 'categoria']\n",
    "    pyautogui.write(str(categoria))\n",
    "    pyautogui.press('tab')\n",
    "\n",
    "    preco = tabel.loc[linha, 'preco']\n",
    "    pyautogui.write(str(preco))\n",
    "    pyautogui.press('tab')\n",
    "\n",
    "    custo = tabel.loc[linha, 'custo']\n",
    "    pyautogui.write(str(custo))\n",
    "    pyautogui.press('tab')\n",
    "\n",
    "    obs = tabel.loc[linha, 'obs']\n",
    "    if not pandas.isna(obs): #comando no pandas para verificar se o campo na tabela nao esta vazio\n",
    "        pyautogui.write(str(obs))\n",
    "        pyautogui.press('tab')\n",
    "\n",
    "    pyautogui.press('tab')\n",
    "    pyautogui.press('enter')\n",
    "    pyautogui.scroll(1000000) #rolar scroll do mouse(número positivo pra cima e negativo pra baixo)\n",
    "\n",
    "\n",
    "\n",
    "\n",
    "\n",
    "\n",
    "\n",
    "\n",
    "\n",
    "\n",
    "\n",
    "\n"
   ]
  },
  {
   "cell_type": "markdown",
   "metadata": {},
   "source": [
    "#abrir o navegador e apertar a tecla win\n",
    "pyautogui.press('win')\n",
    "pyautogui.write('chrome')\n",
    "pyautogui.press('enter')\n",
    "\n",
    "#entrar no link\n",
    "time.sleep(5) #esperar 5 segundos para executar próximo comando\n",
    "link = ('https://dlp.hashtagtreinamentos.com/python/intensivao/login')\n",
    "pyautogui.write(link)\n",
    "pyautogui.press('enter')\n",
    "\n",
    "#clicar no campo email\n",
    "time.sleep(3)\n",
    "pyautogui.click(x=535, y=482)\n",
    "\n",
    "#escrever email\n",
    "pyautogui.write('samcosta210600@gmail.com')\n",
    "\n",
    "#passar para o próximo campo\n",
    "pyautogui.press('tab')\n",
    "\n",
    "#escrever a senha\n",
    "pyautogui.write('12345678')\n",
    "\n",
    "#apertar botão de login\n",
    "pyautogui.press('tab')\n",
    "pyautogui.press('enter')\n",
    "\n",
    "#importar base de dados\n",
    "tabel = pandas.read_csv('produtos.csv') #ler base de dados e armazenar na variável tabel\n",
    "\n",
    "#registrar produtos\n",
    "pyautogui.click(x=535, y=482)\n",
    "linha= 0 \n",
    "codigo = tabel.loc[linha, 'codigo']\n",
    "codigo = tabel.loc[linha, 'codigo']\n",
    "codigo = tabel.loc[linha, 'codigo']\n",
    "codigo = tabel.loc[linha, 'codigo']\n",
    "codigo = tabel.loc[linha, 'codigo']\n",
    "codigo = tabel.loc[linha, 'codigo']\n",
    "\n",
    "\n",
    "\n"
   ]
  },
  {
   "cell_type": "code",
   "execution_count": null,
   "metadata": {},
   "outputs": [],
   "source": []
  },
  {
   "cell_type": "code",
   "execution_count": null,
   "metadata": {},
   "outputs": [],
   "source": []
  },
  {
   "cell_type": "code",
   "execution_count": null,
   "metadata": {},
   "outputs": [],
   "source": [
    "\n"
   ]
  },
  {
   "cell_type": "code",
   "execution_count": null,
   "metadata": {},
   "outputs": [],
   "source": []
  },
  {
   "cell_type": "code",
   "execution_count": null,
   "metadata": {},
   "outputs": [],
   "source": []
  }
 ],
 "metadata": {
  "kernelspec": {
   "display_name": "Python 3",
   "language": "python",
   "name": "python3"
  },
  "language_info": {
   "codemirror_mode": {
    "name": "ipython",
    "version": 3
   },
   "file_extension": ".py",
   "mimetype": "text/x-python",
   "name": "python",
   "nbconvert_exporter": "python",
   "pygments_lexer": "ipython3",
   "version": "3.12.6"
  }
 },
 "nbformat": 4,
 "nbformat_minor": 2
}
